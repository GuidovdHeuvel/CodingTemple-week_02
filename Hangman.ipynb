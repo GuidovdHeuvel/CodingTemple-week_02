{
 "cells": [
  {
   "cell_type": "markdown",
   "metadata": {},
   "source": [
    "Hangman"
   ]
  },
  {
   "cell_type": "code",
   "execution_count": 1,
   "metadata": {},
   "outputs": [],
   "source": [
    "import random\n",
    "from IPython.display import clear_output\n",
    "\n",
    "list_words = [\"apple\", \"monkey\", \"boat\", \"python\", \"beer\", \"keyboard\", \"pinguin\", \"tutorials\", \"quizzes\", \"documents\"]\n",
    "choose_word = random.choice(list_words)\n",
    "letters = 0\n",
    "amount_guesses = 7\n",
    "for x in choose_word:\n",
    "    if x.isalpha():\n",
    "        letters += 1\n",
    "\n",
    "def hangman(choose_word):\n",
    "    show_underscore = \"_\" * int(len(choose_word))\n",
    "    show_correct_letters = list(show_underscore)\n",
    "    word = list(choose_word)\n",
    "    incorrect_guesses = 0\n",
    "    \n",
    "    print(\"_ \" * letters)\n",
    "\n",
    "    while True:\n",
    "        print(\"You need to guess the secret word. To do so you get 7 guesses. Good luck!\")\n",
    "        answer = input(\"Guess a letter or word: \")   \n",
    "        if answer not in choose_word:\n",
    "            clear_output()\n",
    "            incorrect_guesses += 1\n",
    "            print(f\"Incorrect Guesses: {incorrect_guesses}\")\n",
    "            print(\" \".join(show_correct_letters))\n",
    "            if incorrect_guesses >= 7:\n",
    "                print(\"Game over!\")\n",
    "                break\n",
    "        else:\n",
    "            clear_output()\n",
    "            if answer in choose_word:\n",
    "                for index, i in enumerate(choose_word):\n",
    "                    if i == answer:\n",
    "                        show_correct_letters[index] = i\n",
    "            print(\" \".join(show_correct_letters))\n",
    "            if word == show_correct_letters:\n",
    "                print(\"You are correct! Congrats!\")\n",
    "                break"
   ]
  },
  {
   "cell_type": "code",
   "execution_count": 2,
   "metadata": {},
   "outputs": [
    {
     "name": "stdout",
     "output_type": "stream",
     "text": [
      "m o n k e y\n",
      "You are correct! Congrats!\n"
     ]
    }
   ],
   "source": [
    "hangman(choose_word)"
   ]
  }
 ],
 "metadata": {
  "kernelspec": {
   "display_name": "Python 3",
   "language": "python",
   "name": "python3"
  },
  "language_info": {
   "codemirror_mode": {
    "name": "ipython",
    "version": 3
   },
   "file_extension": ".py",
   "mimetype": "text/x-python",
   "name": "python",
   "nbconvert_exporter": "python",
   "pygments_lexer": "ipython3",
   "version": "3.7.6"
  }
 },
 "nbformat": 4,
 "nbformat_minor": 4
}
