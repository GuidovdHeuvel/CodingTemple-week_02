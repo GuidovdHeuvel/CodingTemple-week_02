{
 "cells": [
  {
   "cell_type": "code",
   "execution_count": null,
   "metadata": {},
   "outputs": [],
   "source": [
    "#Exercise #1\n",
    "Create a calculator using functions that asks for two numbers and performs a calculation that the user inputs... \n",
    "Loop until the user chooses not to perform any more calculations.\n",
    "Hint: Take yesterday's code from the extra exercise..."
   ]
  },
  {
   "cell_type": "code",
   "execution_count": 1,
   "metadata": {},
   "outputs": [],
   "source": [
    "from IPython.display import clear_output\n",
    "\n",
    "list1 = []\n",
    "list2 = []\n",
    "list3 = []\n",
    "\n",
    "while list1 != \"quit\":\n",
    "    list1 = input(\"What do you want to do: add, multiply, divide, subtract or type 'quit' to stop\")\n",
    "    clear_output()\n",
    "    \n",
    "    if list1 == \"quit\":\n",
    "        break\n",
    "        \n",
    "    try:    \n",
    "        list2 = float(input(\"Give me a number: \"))\n",
    "        list3 = float(input(\"Give me an other number: \"))\n",
    "\n",
    "        if list1 == \"add\":\n",
    "            print(list2 + list3)\n",
    "        elif list1 == \"multiply\":\n",
    "            print(list2 * list3)\n",
    "        elif list1 == \"divide\":\n",
    "            print(list2 / list3)\n",
    "        elif list1 == \"subtract\":\n",
    "            print(list2 - list3)\n",
    "        else:\n",
    "            print(\"That operation was invalid. Try again.\")\n",
    "    except ValueError:\n",
    "        print(\"That was an invalid character, try again...\")        "
   ]
  },
  {
   "cell_type": "code",
   "execution_count": null,
   "metadata": {},
   "outputs": [],
   "source": [
    "#Exercise 2\n",
    "Create a pyramid of X's for n number of levels."
   ]
  },
  {
   "cell_type": "code",
   "execution_count": 4,
   "metadata": {},
   "outputs": [],
   "source": [
    "def triangle(n): \n",
    "    k = 2*n - 2\n",
    "    \n",
    "    for i in range(0, n):\n",
    "        for j in range(0, k): \n",
    "            print(end=\" \") \n",
    "      \n",
    "        k = k - 1\n",
    "      \n",
    "        for j in range(0, i+1): \n",
    "            print(\"X \", end=\"\")\n",
    "\n",
    "        print(\"\\r\")"
   ]
  },
  {
   "cell_type": "code",
   "execution_count": 5,
   "metadata": {
    "scrolled": true
   },
   "outputs": [
    {
     "name": "stdout",
     "output_type": "stream",
     "text": [
      "        X \r\n",
      "       X X \r\n",
      "      X X X \r\n",
      "     X X X X \r\n",
      "    X X X X X \r\n"
     ]
    }
   ],
   "source": [
    "triangle(5)"
   ]
  },
  {
   "cell_type": "code",
   "execution_count": 7,
   "metadata": {},
   "outputs": [
    {
     "name": "stdout",
     "output_type": "stream",
     "text": [
      "           x\n",
      "          xxx\n",
      "         xxxxx\n",
      "        xxxxxxx\n",
      "       xxxxxxxxx\n",
      "      xxxxxxxxxxx\n",
      "     xxxxxxxxxxxxx\n",
      "    xxxxxxxxxxxxxxx\n",
      "   xxxxxxxxxxxxxxxxx\n",
      "  xxxxxxxxxxxxxxxxxxx\n",
      " xxxxxxxxxxxxxxxxxxxxx\n",
      "xxxxxxxxxxxxxxxxxxxxxxx\n"
     ]
    }
   ],
   "source": [
    "n=12\n",
    "for i in range(1, n+1):\n",
    "    print(\" \" * (int(n)-i) + \"x\" * (i * 2 - 1))"
   ]
  }
 ],
 "metadata": {
  "kernelspec": {
   "display_name": "Python 3",
   "language": "python",
   "name": "python3"
  },
  "language_info": {
   "codemirror_mode": {
    "name": "ipython",
    "version": 3
   },
   "file_extension": ".py",
   "mimetype": "text/x-python",
   "name": "python",
   "nbconvert_exporter": "python",
   "pygments_lexer": "ipython3",
   "version": "3.7.6"
  }
 },
 "nbformat": 4,
 "nbformat_minor": 4
}
